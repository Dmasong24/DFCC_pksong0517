{
  "nbformat": 4,
  "nbformat_minor": 0,
  "metadata": {
    "colab": {
      "provenance": [],
      "gpuType": "T4",
      "include_colab_link": true
    },
    "kernelspec": {
      "name": "python3",
      "display_name": "Python 3"
    },
    "language_info": {
      "name": "python"
    },
    "accelerator": "GPU"
  },
  "cells": [
    {
      "cell_type": "markdown",
      "metadata": {
        "id": "view-in-github",
        "colab_type": "text"
      },
      "source": [
        "<a href=\"https://colab.research.google.com/github/Dmasong24/DFCC_pksong0517/blob/park/DFCC_eval_GoogleColab.ipynb\" target=\"_parent\"><img src=\"https://colab.research.google.com/assets/colab-badge.svg\" alt=\"Open In Colab\"/></a>"
      ]
    },
    {
      "cell_type": "code",
      "source": [
        "from google.colab import drive\n",
        "drive.mount('/content/drive')"
      ],
      "metadata": {
        "colab": {
          "base_uri": "https://localhost:8080/"
        },
        "id": "1kkNUbw5XaXr",
        "outputId": "913020d4-9b2b-482a-86b3-602c4cc7b6dd"
      },
      "execution_count": 1,
      "outputs": [
        {
          "output_type": "stream",
          "name": "stdout",
          "text": [
            "Mounted at /content/drive\n"
          ]
        }
      ]
    },
    {
      "cell_type": "code",
      "execution_count": 2,
      "metadata": {
        "id": "k39vNnnLu-5Y"
      },
      "outputs": [],
      "source": [
        "import os\n",
        "import re\n",
        "import pandas as pd\n",
        "import numpy as np\n",
        "from sklearn.preprocessing import LabelEncoder\n",
        "import librosa\n",
        "#!pip install tensorflow\n",
        "from tensorflow.keras.models import load_model"
      ]
    },
    {
      "cell_type": "code",
      "source": [
        "model = load_model(\"drive/MyDrive/DFCC_pksong0517.keras\")   # 만들어둔 model 가져오기"
      ],
      "metadata": {
        "id": "ylb9Ok7UycYl"
      },
      "execution_count": 6,
      "outputs": []
    },
    {
      "cell_type": "code",
      "source": [
        "# test_label 오름차순 정렬을 위한 숫자 부분 추출 함수\n",
        "def extract_number_from_test_label(test_label):\n",
        "    match = re.search(r'\\d+', test_label)\n",
        "    if match:\n",
        "        return match.group(0)\n",
        "    return None"
      ],
      "metadata": {
        "id": "-OLv81oXv5_x"
      },
      "execution_count": 7,
      "outputs": []
    },
    {
      "cell_type": "code",
      "source": [
        "# test_labels 불러오기\n",
        "test_label = pd.read_table('drive/MyDrive/label/test_label.txt', sep='- -', header=None, names=['voice_name','label'])\n",
        "test_label['voice_number'] = test_label['voice_name'].apply(extract_number_from_test_label)\n",
        "test_label.sort_values('voice_number', inplace=True)\n",
        "le = LabelEncoder()\n",
        "test_labels = le.fit_transform(test_label['label'])"
      ],
      "metadata": {
        "colab": {
          "base_uri": "https://localhost:8080/"
        },
        "id": "21mBbXE5va_h",
        "outputId": "c3f1b1df-7d02-494d-f1a0-61ead02730db"
      },
      "execution_count": 8,
      "outputs": [
        {
          "output_type": "stream",
          "name": "stderr",
          "text": [
            "<ipython-input-8-22156bcc61e6>:2: ParserWarning: Falling back to the 'python' engine because the 'c' engine does not support regex separators (separators > 1 char and different from '\\s+' are interpreted as regex); you can avoid this warning by specifying engine='python'.\n",
            "  test_label = pd.read_table('drive/MyDrive/label/test_label.txt', sep='- -', header=None, names=['voice_name','label'])\n"
          ]
        }
      ]
    },
    {
      "cell_type": "code",
      "source": [
        "test_label.head()   # eval_label 오름차순 정렬 잘 됐나 확인용"
      ],
      "metadata": {
        "colab": {
          "base_uri": "https://localhost:8080/",
          "height": 206
        },
        "id": "d3IWPs2qwYoy",
        "outputId": "a9f8c9f1-1cf3-49c0-d3e5-653f4de2d624"
      },
      "execution_count": 9,
      "outputs": [
        {
          "output_type": "execute_result",
          "data": {
            "text/plain": [
              "               voice_name  label voice_number\n",
              "1773  PSH KDF_E_0001.wav    Fake         0001\n",
              "561   KSI KDF_E_0002.wav    Real         0002\n",
              "1580  KSI KDF_E_0003.wav    Fake         0003\n",
              "1105  YSG KDF_E_0004.wav    Fake         0004\n",
              "413   CKH KDF_E_0005.wav    Real         0005"
            ],
            "text/html": [
              "\n",
              "  <div id=\"df-ce9d82e7-932f-4f60-94e2-35122aeadbf6\" class=\"colab-df-container\">\n",
              "    <div>\n",
              "<style scoped>\n",
              "    .dataframe tbody tr th:only-of-type {\n",
              "        vertical-align: middle;\n",
              "    }\n",
              "\n",
              "    .dataframe tbody tr th {\n",
              "        vertical-align: top;\n",
              "    }\n",
              "\n",
              "    .dataframe thead th {\n",
              "        text-align: right;\n",
              "    }\n",
              "</style>\n",
              "<table border=\"1\" class=\"dataframe\">\n",
              "  <thead>\n",
              "    <tr style=\"text-align: right;\">\n",
              "      <th></th>\n",
              "      <th>voice_name</th>\n",
              "      <th>label</th>\n",
              "      <th>voice_number</th>\n",
              "    </tr>\n",
              "  </thead>\n",
              "  <tbody>\n",
              "    <tr>\n",
              "      <th>1773</th>\n",
              "      <td>PSH KDF_E_0001.wav</td>\n",
              "      <td>Fake</td>\n",
              "      <td>0001</td>\n",
              "    </tr>\n",
              "    <tr>\n",
              "      <th>561</th>\n",
              "      <td>KSI KDF_E_0002.wav</td>\n",
              "      <td>Real</td>\n",
              "      <td>0002</td>\n",
              "    </tr>\n",
              "    <tr>\n",
              "      <th>1580</th>\n",
              "      <td>KSI KDF_E_0003.wav</td>\n",
              "      <td>Fake</td>\n",
              "      <td>0003</td>\n",
              "    </tr>\n",
              "    <tr>\n",
              "      <th>1105</th>\n",
              "      <td>YSG KDF_E_0004.wav</td>\n",
              "      <td>Fake</td>\n",
              "      <td>0004</td>\n",
              "    </tr>\n",
              "    <tr>\n",
              "      <th>413</th>\n",
              "      <td>CKH KDF_E_0005.wav</td>\n",
              "      <td>Real</td>\n",
              "      <td>0005</td>\n",
              "    </tr>\n",
              "  </tbody>\n",
              "</table>\n",
              "</div>\n",
              "    <div class=\"colab-df-buttons\">\n",
              "\n",
              "  <div class=\"colab-df-container\">\n",
              "    <button class=\"colab-df-convert\" onclick=\"convertToInteractive('df-ce9d82e7-932f-4f60-94e2-35122aeadbf6')\"\n",
              "            title=\"Convert this dataframe to an interactive table.\"\n",
              "            style=\"display:none;\">\n",
              "\n",
              "  <svg xmlns=\"http://www.w3.org/2000/svg\" height=\"24px\" viewBox=\"0 -960 960 960\">\n",
              "    <path d=\"M120-120v-720h720v720H120Zm60-500h600v-160H180v160Zm220 220h160v-160H400v160Zm0 220h160v-160H400v160ZM180-400h160v-160H180v160Zm440 0h160v-160H620v160ZM180-180h160v-160H180v160Zm440 0h160v-160H620v160Z\"/>\n",
              "  </svg>\n",
              "    </button>\n",
              "\n",
              "  <style>\n",
              "    .colab-df-container {\n",
              "      display:flex;\n",
              "      gap: 12px;\n",
              "    }\n",
              "\n",
              "    .colab-df-convert {\n",
              "      background-color: #E8F0FE;\n",
              "      border: none;\n",
              "      border-radius: 50%;\n",
              "      cursor: pointer;\n",
              "      display: none;\n",
              "      fill: #1967D2;\n",
              "      height: 32px;\n",
              "      padding: 0 0 0 0;\n",
              "      width: 32px;\n",
              "    }\n",
              "\n",
              "    .colab-df-convert:hover {\n",
              "      background-color: #E2EBFA;\n",
              "      box-shadow: 0px 1px 2px rgba(60, 64, 67, 0.3), 0px 1px 3px 1px rgba(60, 64, 67, 0.15);\n",
              "      fill: #174EA6;\n",
              "    }\n",
              "\n",
              "    .colab-df-buttons div {\n",
              "      margin-bottom: 4px;\n",
              "    }\n",
              "\n",
              "    [theme=dark] .colab-df-convert {\n",
              "      background-color: #3B4455;\n",
              "      fill: #D2E3FC;\n",
              "    }\n",
              "\n",
              "    [theme=dark] .colab-df-convert:hover {\n",
              "      background-color: #434B5C;\n",
              "      box-shadow: 0px 1px 3px 1px rgba(0, 0, 0, 0.15);\n",
              "      filter: drop-shadow(0px 1px 2px rgba(0, 0, 0, 0.3));\n",
              "      fill: #FFFFFF;\n",
              "    }\n",
              "  </style>\n",
              "\n",
              "    <script>\n",
              "      const buttonEl =\n",
              "        document.querySelector('#df-ce9d82e7-932f-4f60-94e2-35122aeadbf6 button.colab-df-convert');\n",
              "      buttonEl.style.display =\n",
              "        google.colab.kernel.accessAllowed ? 'block' : 'none';\n",
              "\n",
              "      async function convertToInteractive(key) {\n",
              "        const element = document.querySelector('#df-ce9d82e7-932f-4f60-94e2-35122aeadbf6');\n",
              "        const dataTable =\n",
              "          await google.colab.kernel.invokeFunction('convertToInteractive',\n",
              "                                                    [key], {});\n",
              "        if (!dataTable) return;\n",
              "\n",
              "        const docLinkHtml = 'Like what you see? Visit the ' +\n",
              "          '<a target=\"_blank\" href=https://colab.research.google.com/notebooks/data_table.ipynb>data table notebook</a>'\n",
              "          + ' to learn more about interactive tables.';\n",
              "        element.innerHTML = '';\n",
              "        dataTable['output_type'] = 'display_data';\n",
              "        await google.colab.output.renderOutput(dataTable, element);\n",
              "        const docLink = document.createElement('div');\n",
              "        docLink.innerHTML = docLinkHtml;\n",
              "        element.appendChild(docLink);\n",
              "      }\n",
              "    </script>\n",
              "  </div>\n",
              "\n",
              "\n",
              "    <div id=\"df-5951dddf-ef44-4945-832d-f05ac3a81af6\">\n",
              "      <button class=\"colab-df-quickchart\" onclick=\"quickchart('df-5951dddf-ef44-4945-832d-f05ac3a81af6')\"\n",
              "                title=\"Suggest charts\"\n",
              "                style=\"display:none;\">\n",
              "\n",
              "<svg xmlns=\"http://www.w3.org/2000/svg\" height=\"24px\"viewBox=\"0 0 24 24\"\n",
              "     width=\"24px\">\n",
              "    <g>\n",
              "        <path d=\"M19 3H5c-1.1 0-2 .9-2 2v14c0 1.1.9 2 2 2h14c1.1 0 2-.9 2-2V5c0-1.1-.9-2-2-2zM9 17H7v-7h2v7zm4 0h-2V7h2v10zm4 0h-2v-4h2v4z\"/>\n",
              "    </g>\n",
              "</svg>\n",
              "      </button>\n",
              "\n",
              "<style>\n",
              "  .colab-df-quickchart {\n",
              "      --bg-color: #E8F0FE;\n",
              "      --fill-color: #1967D2;\n",
              "      --hover-bg-color: #E2EBFA;\n",
              "      --hover-fill-color: #174EA6;\n",
              "      --disabled-fill-color: #AAA;\n",
              "      --disabled-bg-color: #DDD;\n",
              "  }\n",
              "\n",
              "  [theme=dark] .colab-df-quickchart {\n",
              "      --bg-color: #3B4455;\n",
              "      --fill-color: #D2E3FC;\n",
              "      --hover-bg-color: #434B5C;\n",
              "      --hover-fill-color: #FFFFFF;\n",
              "      --disabled-bg-color: #3B4455;\n",
              "      --disabled-fill-color: #666;\n",
              "  }\n",
              "\n",
              "  .colab-df-quickchart {\n",
              "    background-color: var(--bg-color);\n",
              "    border: none;\n",
              "    border-radius: 50%;\n",
              "    cursor: pointer;\n",
              "    display: none;\n",
              "    fill: var(--fill-color);\n",
              "    height: 32px;\n",
              "    padding: 0;\n",
              "    width: 32px;\n",
              "  }\n",
              "\n",
              "  .colab-df-quickchart:hover {\n",
              "    background-color: var(--hover-bg-color);\n",
              "    box-shadow: 0 1px 2px rgba(60, 64, 67, 0.3), 0 1px 3px 1px rgba(60, 64, 67, 0.15);\n",
              "    fill: var(--button-hover-fill-color);\n",
              "  }\n",
              "\n",
              "  .colab-df-quickchart-complete:disabled,\n",
              "  .colab-df-quickchart-complete:disabled:hover {\n",
              "    background-color: var(--disabled-bg-color);\n",
              "    fill: var(--disabled-fill-color);\n",
              "    box-shadow: none;\n",
              "  }\n",
              "\n",
              "  .colab-df-spinner {\n",
              "    border: 2px solid var(--fill-color);\n",
              "    border-color: transparent;\n",
              "    border-bottom-color: var(--fill-color);\n",
              "    animation:\n",
              "      spin 1s steps(1) infinite;\n",
              "  }\n",
              "\n",
              "  @keyframes spin {\n",
              "    0% {\n",
              "      border-color: transparent;\n",
              "      border-bottom-color: var(--fill-color);\n",
              "      border-left-color: var(--fill-color);\n",
              "    }\n",
              "    20% {\n",
              "      border-color: transparent;\n",
              "      border-left-color: var(--fill-color);\n",
              "      border-top-color: var(--fill-color);\n",
              "    }\n",
              "    30% {\n",
              "      border-color: transparent;\n",
              "      border-left-color: var(--fill-color);\n",
              "      border-top-color: var(--fill-color);\n",
              "      border-right-color: var(--fill-color);\n",
              "    }\n",
              "    40% {\n",
              "      border-color: transparent;\n",
              "      border-right-color: var(--fill-color);\n",
              "      border-top-color: var(--fill-color);\n",
              "    }\n",
              "    60% {\n",
              "      border-color: transparent;\n",
              "      border-right-color: var(--fill-color);\n",
              "    }\n",
              "    80% {\n",
              "      border-color: transparent;\n",
              "      border-right-color: var(--fill-color);\n",
              "      border-bottom-color: var(--fill-color);\n",
              "    }\n",
              "    90% {\n",
              "      border-color: transparent;\n",
              "      border-bottom-color: var(--fill-color);\n",
              "    }\n",
              "  }\n",
              "</style>\n",
              "\n",
              "      <script>\n",
              "        async function quickchart(key) {\n",
              "          const quickchartButtonEl =\n",
              "            document.querySelector('#' + key + ' button');\n",
              "          quickchartButtonEl.disabled = true;  // To prevent multiple clicks.\n",
              "          quickchartButtonEl.classList.add('colab-df-spinner');\n",
              "          try {\n",
              "            const charts = await google.colab.kernel.invokeFunction(\n",
              "                'suggestCharts', [key], {});\n",
              "          } catch (error) {\n",
              "            console.error('Error during call to suggestCharts:', error);\n",
              "          }\n",
              "          quickchartButtonEl.classList.remove('colab-df-spinner');\n",
              "          quickchartButtonEl.classList.add('colab-df-quickchart-complete');\n",
              "        }\n",
              "        (() => {\n",
              "          let quickchartButtonEl =\n",
              "            document.querySelector('#df-5951dddf-ef44-4945-832d-f05ac3a81af6 button');\n",
              "          quickchartButtonEl.style.display =\n",
              "            google.colab.kernel.accessAllowed ? 'block' : 'none';\n",
              "        })();\n",
              "      </script>\n",
              "    </div>\n",
              "\n",
              "    </div>\n",
              "  </div>\n"
            ],
            "application/vnd.google.colaboratory.intrinsic+json": {
              "type": "dataframe",
              "variable_name": "test_label",
              "summary": "{\n  \"name\": \"test_label\",\n  \"rows\": 2000,\n  \"fields\": [\n    {\n      \"column\": \"voice_name\",\n      \"properties\": {\n        \"dtype\": \"string\",\n        \"num_unique_values\": 2000,\n        \"samples\": [\n          \"CKH KDF_E_1861.wav \",\n          \"KSI KDF_E_0354.wav \",\n          \"PSH KDF_E_1334.wav \"\n        ],\n        \"semantic_type\": \"\",\n        \"description\": \"\"\n      }\n    },\n    {\n      \"column\": \"label\",\n      \"properties\": {\n        \"dtype\": \"category\",\n        \"num_unique_values\": 2,\n        \"samples\": [\n          \" Real\",\n          \" Fake\"\n        ],\n        \"semantic_type\": \"\",\n        \"description\": \"\"\n      }\n    },\n    {\n      \"column\": \"voice_number\",\n      \"properties\": {\n        \"dtype\": \"string\",\n        \"num_unique_values\": 2000,\n        \"samples\": [\n          \"1861\",\n          \"0354\"\n        ],\n        \"semantic_type\": \"\",\n        \"description\": \"\"\n      }\n    }\n  ]\n}"
            }
          },
          "metadata": {},
          "execution_count": 9
        }
      ]
    },
    {
      "cell_type": "code",
      "source": [
        "test_labels   # eval_labels label encoding 잘 됐나 확인용"
      ],
      "metadata": {
        "colab": {
          "base_uri": "https://localhost:8080/"
        },
        "id": "6Xrb2iuQwhkf",
        "outputId": "23519673-0146-464c-b837-8e9e5eeabe2e"
      },
      "execution_count": 10,
      "outputs": [
        {
          "output_type": "execute_result",
          "data": {
            "text/plain": [
              "array([0, 1, 0, ..., 0, 0, 0])"
            ]
          },
          "metadata": {},
          "execution_count": 10
        }
      ]
    },
    {
      "cell_type": "code",
      "source": [
        "# test_wav 파일 가져오기\n",
        "def test_dataset():\n",
        "    folder = \"drive/MyDrive/test\"\n",
        "    dataset = []\n",
        "    for file in sorted(os.listdir(folder)):\n",
        "        if 'wav' in file:\n",
        "            abs_file_path = os.path.join(folder,file)\n",
        "            data, sr = librosa.load(abs_file_path, sr = 16000)   # data = 진폭값, sr = sample_rate = 16,000(초당 샘플 갯수)\n",
        "            dataset.append([data, file])\n",
        "\n",
        "    print(\"test_Dataset 생성 완료\")\n",
        "    return pd.DataFrame(dataset,columns=['data', 'file'])\n",
        "\n",
        "test_wav = test_dataset()"
      ],
      "metadata": {
        "colab": {
          "base_uri": "https://localhost:8080/"
        },
        "id": "Nvul370gwqtZ",
        "outputId": "e0437879-05f0-468b-a7fd-bdd478743117"
      },
      "execution_count": 11,
      "outputs": [
        {
          "output_type": "stream",
          "name": "stdout",
          "text": [
            "test_Dataset 생성 완료\n"
          ]
        }
      ]
    },
    {
      "cell_type": "code",
      "source": [
        "test_wav.head()   # wav 잘 가져왔나 확인용"
      ],
      "metadata": {
        "colab": {
          "base_uri": "https://localhost:8080/",
          "height": 206
        },
        "id": "CjNTu4bC1-x7",
        "outputId": "34f3c8ac-d6c0-49fc-cfca-28fbeeda8b0d"
      },
      "execution_count": 12,
      "outputs": [
        {
          "output_type": "execute_result",
          "data": {
            "text/plain": [
              "                                                data            file\n",
              "0  [0.002532959, -0.0017089844, -0.0138549805, -0...  KDF_E_0001.wav\n",
              "1  [9.1552734e-05, 0.00015258789, 0.00015258789, ...  KDF_E_0002.wav\n",
              "2  [-0.00018310547, 3.0517578e-05, -6.1035156e-05...  KDF_E_0003.wav\n",
              "3  [-0.0005187988, -0.0008239746, -0.0011291504, ...  KDF_E_0004.wav\n",
              "4  [-0.0010070801, -0.0016479492, -0.0014953613, ...  KDF_E_0005.wav"
            ],
            "text/html": [
              "\n",
              "  <div id=\"df-10596842-11be-413e-8dfb-42b9dbf9be51\" class=\"colab-df-container\">\n",
              "    <div>\n",
              "<style scoped>\n",
              "    .dataframe tbody tr th:only-of-type {\n",
              "        vertical-align: middle;\n",
              "    }\n",
              "\n",
              "    .dataframe tbody tr th {\n",
              "        vertical-align: top;\n",
              "    }\n",
              "\n",
              "    .dataframe thead th {\n",
              "        text-align: right;\n",
              "    }\n",
              "</style>\n",
              "<table border=\"1\" class=\"dataframe\">\n",
              "  <thead>\n",
              "    <tr style=\"text-align: right;\">\n",
              "      <th></th>\n",
              "      <th>data</th>\n",
              "      <th>file</th>\n",
              "    </tr>\n",
              "  </thead>\n",
              "  <tbody>\n",
              "    <tr>\n",
              "      <th>0</th>\n",
              "      <td>[0.002532959, -0.0017089844, -0.0138549805, -0...</td>\n",
              "      <td>KDF_E_0001.wav</td>\n",
              "    </tr>\n",
              "    <tr>\n",
              "      <th>1</th>\n",
              "      <td>[9.1552734e-05, 0.00015258789, 0.00015258789, ...</td>\n",
              "      <td>KDF_E_0002.wav</td>\n",
              "    </tr>\n",
              "    <tr>\n",
              "      <th>2</th>\n",
              "      <td>[-0.00018310547, 3.0517578e-05, -6.1035156e-05...</td>\n",
              "      <td>KDF_E_0003.wav</td>\n",
              "    </tr>\n",
              "    <tr>\n",
              "      <th>3</th>\n",
              "      <td>[-0.0005187988, -0.0008239746, -0.0011291504, ...</td>\n",
              "      <td>KDF_E_0004.wav</td>\n",
              "    </tr>\n",
              "    <tr>\n",
              "      <th>4</th>\n",
              "      <td>[-0.0010070801, -0.0016479492, -0.0014953613, ...</td>\n",
              "      <td>KDF_E_0005.wav</td>\n",
              "    </tr>\n",
              "  </tbody>\n",
              "</table>\n",
              "</div>\n",
              "    <div class=\"colab-df-buttons\">\n",
              "\n",
              "  <div class=\"colab-df-container\">\n",
              "    <button class=\"colab-df-convert\" onclick=\"convertToInteractive('df-10596842-11be-413e-8dfb-42b9dbf9be51')\"\n",
              "            title=\"Convert this dataframe to an interactive table.\"\n",
              "            style=\"display:none;\">\n",
              "\n",
              "  <svg xmlns=\"http://www.w3.org/2000/svg\" height=\"24px\" viewBox=\"0 -960 960 960\">\n",
              "    <path d=\"M120-120v-720h720v720H120Zm60-500h600v-160H180v160Zm220 220h160v-160H400v160Zm0 220h160v-160H400v160ZM180-400h160v-160H180v160Zm440 0h160v-160H620v160ZM180-180h160v-160H180v160Zm440 0h160v-160H620v160Z\"/>\n",
              "  </svg>\n",
              "    </button>\n",
              "\n",
              "  <style>\n",
              "    .colab-df-container {\n",
              "      display:flex;\n",
              "      gap: 12px;\n",
              "    }\n",
              "\n",
              "    .colab-df-convert {\n",
              "      background-color: #E8F0FE;\n",
              "      border: none;\n",
              "      border-radius: 50%;\n",
              "      cursor: pointer;\n",
              "      display: none;\n",
              "      fill: #1967D2;\n",
              "      height: 32px;\n",
              "      padding: 0 0 0 0;\n",
              "      width: 32px;\n",
              "    }\n",
              "\n",
              "    .colab-df-convert:hover {\n",
              "      background-color: #E2EBFA;\n",
              "      box-shadow: 0px 1px 2px rgba(60, 64, 67, 0.3), 0px 1px 3px 1px rgba(60, 64, 67, 0.15);\n",
              "      fill: #174EA6;\n",
              "    }\n",
              "\n",
              "    .colab-df-buttons div {\n",
              "      margin-bottom: 4px;\n",
              "    }\n",
              "\n",
              "    [theme=dark] .colab-df-convert {\n",
              "      background-color: #3B4455;\n",
              "      fill: #D2E3FC;\n",
              "    }\n",
              "\n",
              "    [theme=dark] .colab-df-convert:hover {\n",
              "      background-color: #434B5C;\n",
              "      box-shadow: 0px 1px 3px 1px rgba(0, 0, 0, 0.15);\n",
              "      filter: drop-shadow(0px 1px 2px rgba(0, 0, 0, 0.3));\n",
              "      fill: #FFFFFF;\n",
              "    }\n",
              "  </style>\n",
              "\n",
              "    <script>\n",
              "      const buttonEl =\n",
              "        document.querySelector('#df-10596842-11be-413e-8dfb-42b9dbf9be51 button.colab-df-convert');\n",
              "      buttonEl.style.display =\n",
              "        google.colab.kernel.accessAllowed ? 'block' : 'none';\n",
              "\n",
              "      async function convertToInteractive(key) {\n",
              "        const element = document.querySelector('#df-10596842-11be-413e-8dfb-42b9dbf9be51');\n",
              "        const dataTable =\n",
              "          await google.colab.kernel.invokeFunction('convertToInteractive',\n",
              "                                                    [key], {});\n",
              "        if (!dataTable) return;\n",
              "\n",
              "        const docLinkHtml = 'Like what you see? Visit the ' +\n",
              "          '<a target=\"_blank\" href=https://colab.research.google.com/notebooks/data_table.ipynb>data table notebook</a>'\n",
              "          + ' to learn more about interactive tables.';\n",
              "        element.innerHTML = '';\n",
              "        dataTable['output_type'] = 'display_data';\n",
              "        await google.colab.output.renderOutput(dataTable, element);\n",
              "        const docLink = document.createElement('div');\n",
              "        docLink.innerHTML = docLinkHtml;\n",
              "        element.appendChild(docLink);\n",
              "      }\n",
              "    </script>\n",
              "  </div>\n",
              "\n",
              "\n",
              "    <div id=\"df-ce16765d-0731-40b0-ae87-7e8ea7ef7857\">\n",
              "      <button class=\"colab-df-quickchart\" onclick=\"quickchart('df-ce16765d-0731-40b0-ae87-7e8ea7ef7857')\"\n",
              "                title=\"Suggest charts\"\n",
              "                style=\"display:none;\">\n",
              "\n",
              "<svg xmlns=\"http://www.w3.org/2000/svg\" height=\"24px\"viewBox=\"0 0 24 24\"\n",
              "     width=\"24px\">\n",
              "    <g>\n",
              "        <path d=\"M19 3H5c-1.1 0-2 .9-2 2v14c0 1.1.9 2 2 2h14c1.1 0 2-.9 2-2V5c0-1.1-.9-2-2-2zM9 17H7v-7h2v7zm4 0h-2V7h2v10zm4 0h-2v-4h2v4z\"/>\n",
              "    </g>\n",
              "</svg>\n",
              "      </button>\n",
              "\n",
              "<style>\n",
              "  .colab-df-quickchart {\n",
              "      --bg-color: #E8F0FE;\n",
              "      --fill-color: #1967D2;\n",
              "      --hover-bg-color: #E2EBFA;\n",
              "      --hover-fill-color: #174EA6;\n",
              "      --disabled-fill-color: #AAA;\n",
              "      --disabled-bg-color: #DDD;\n",
              "  }\n",
              "\n",
              "  [theme=dark] .colab-df-quickchart {\n",
              "      --bg-color: #3B4455;\n",
              "      --fill-color: #D2E3FC;\n",
              "      --hover-bg-color: #434B5C;\n",
              "      --hover-fill-color: #FFFFFF;\n",
              "      --disabled-bg-color: #3B4455;\n",
              "      --disabled-fill-color: #666;\n",
              "  }\n",
              "\n",
              "  .colab-df-quickchart {\n",
              "    background-color: var(--bg-color);\n",
              "    border: none;\n",
              "    border-radius: 50%;\n",
              "    cursor: pointer;\n",
              "    display: none;\n",
              "    fill: var(--fill-color);\n",
              "    height: 32px;\n",
              "    padding: 0;\n",
              "    width: 32px;\n",
              "  }\n",
              "\n",
              "  .colab-df-quickchart:hover {\n",
              "    background-color: var(--hover-bg-color);\n",
              "    box-shadow: 0 1px 2px rgba(60, 64, 67, 0.3), 0 1px 3px 1px rgba(60, 64, 67, 0.15);\n",
              "    fill: var(--button-hover-fill-color);\n",
              "  }\n",
              "\n",
              "  .colab-df-quickchart-complete:disabled,\n",
              "  .colab-df-quickchart-complete:disabled:hover {\n",
              "    background-color: var(--disabled-bg-color);\n",
              "    fill: var(--disabled-fill-color);\n",
              "    box-shadow: none;\n",
              "  }\n",
              "\n",
              "  .colab-df-spinner {\n",
              "    border: 2px solid var(--fill-color);\n",
              "    border-color: transparent;\n",
              "    border-bottom-color: var(--fill-color);\n",
              "    animation:\n",
              "      spin 1s steps(1) infinite;\n",
              "  }\n",
              "\n",
              "  @keyframes spin {\n",
              "    0% {\n",
              "      border-color: transparent;\n",
              "      border-bottom-color: var(--fill-color);\n",
              "      border-left-color: var(--fill-color);\n",
              "    }\n",
              "    20% {\n",
              "      border-color: transparent;\n",
              "      border-left-color: var(--fill-color);\n",
              "      border-top-color: var(--fill-color);\n",
              "    }\n",
              "    30% {\n",
              "      border-color: transparent;\n",
              "      border-left-color: var(--fill-color);\n",
              "      border-top-color: var(--fill-color);\n",
              "      border-right-color: var(--fill-color);\n",
              "    }\n",
              "    40% {\n",
              "      border-color: transparent;\n",
              "      border-right-color: var(--fill-color);\n",
              "      border-top-color: var(--fill-color);\n",
              "    }\n",
              "    60% {\n",
              "      border-color: transparent;\n",
              "      border-right-color: var(--fill-color);\n",
              "    }\n",
              "    80% {\n",
              "      border-color: transparent;\n",
              "      border-right-color: var(--fill-color);\n",
              "      border-bottom-color: var(--fill-color);\n",
              "    }\n",
              "    90% {\n",
              "      border-color: transparent;\n",
              "      border-bottom-color: var(--fill-color);\n",
              "    }\n",
              "  }\n",
              "</style>\n",
              "\n",
              "      <script>\n",
              "        async function quickchart(key) {\n",
              "          const quickchartButtonEl =\n",
              "            document.querySelector('#' + key + ' button');\n",
              "          quickchartButtonEl.disabled = true;  // To prevent multiple clicks.\n",
              "          quickchartButtonEl.classList.add('colab-df-spinner');\n",
              "          try {\n",
              "            const charts = await google.colab.kernel.invokeFunction(\n",
              "                'suggestCharts', [key], {});\n",
              "          } catch (error) {\n",
              "            console.error('Error during call to suggestCharts:', error);\n",
              "          }\n",
              "          quickchartButtonEl.classList.remove('colab-df-spinner');\n",
              "          quickchartButtonEl.classList.add('colab-df-quickchart-complete');\n",
              "        }\n",
              "        (() => {\n",
              "          let quickchartButtonEl =\n",
              "            document.querySelector('#df-ce16765d-0731-40b0-ae87-7e8ea7ef7857 button');\n",
              "          quickchartButtonEl.style.display =\n",
              "            google.colab.kernel.accessAllowed ? 'block' : 'none';\n",
              "        })();\n",
              "      </script>\n",
              "    </div>\n",
              "\n",
              "    </div>\n",
              "  </div>\n"
            ],
            "application/vnd.google.colaboratory.intrinsic+json": {
              "type": "dataframe",
              "variable_name": "test_wav",
              "summary": "{\n  \"name\": \"test_wav\",\n  \"rows\": 2000,\n  \"fields\": [\n    {\n      \"column\": \"data\",\n      \"properties\": {\n        \"dtype\": \"object\",\n        \"semantic_type\": \"\",\n        \"description\": \"\"\n      }\n    },\n    {\n      \"column\": \"file\",\n      \"properties\": {\n        \"dtype\": \"string\",\n        \"num_unique_values\": 2000,\n        \"samples\": [\n          \"KDF_E_1861.wav\",\n          \"KDF_E_0354.wav\",\n          \"KDF_E_1334.wav\"\n        ],\n        \"semantic_type\": \"\",\n        \"description\": \"\"\n      }\n    }\n  ]\n}"
            }
          },
          "metadata": {},
          "execution_count": 12
        }
      ]
    },
    {
      "cell_type": "code",
      "source": [
        "# train & test 때 사용했던 max_length(=111872)로 test_wav Padding\n",
        "def set_length_with_padding(data, max_length):\n",
        "    result = []\n",
        "    for i in data:\n",
        "        padded_audio = librosa.util.fix_length(i, size=max_length)\n",
        "        result.append(padded_audio)\n",
        "    result = np.array(result)\n",
        "    return result\n",
        "\n",
        "test_x = np.array(test_wav.data)\n",
        "test_x = set_length_with_padding(test_x, 111872)\n",
        "print(\"padding 완료\")"
      ],
      "metadata": {
        "colab": {
          "base_uri": "https://localhost:8080/"
        },
        "id": "MMzD48FwxJKo",
        "outputId": "b5d2c504-4fab-46c6-ee60-41f7c3da2bf3"
      },
      "execution_count": 13,
      "outputs": [
        {
          "output_type": "stream",
          "name": "stdout",
          "text": [
            "padding 완료\n"
          ]
        }
      ]
    },
    {
      "cell_type": "code",
      "source": [
        "# MFCC 특징 추출하기\n",
        "def preprocess_dataset(data):\n",
        "    mfccs = []\n",
        "    for i in data:\n",
        "        extracted_features = librosa.feature.mfcc(y=i,sr=16000,n_mfcc=40)\n",
        "        mfccs.append(extracted_features)\n",
        "\n",
        "    return mfccs\n",
        "\n",
        "test_mfccs = preprocess_dataset(test_x)\n",
        "test_mfccs = np.array(test_mfccs)\n",
        "test_mfccs = test_mfccs.reshape(-1, test_mfccs.shape[1], test_mfccs.shape[2], 1)"
      ],
      "metadata": {
        "id": "_2Slo4lkxx6P"
      },
      "execution_count": 14,
      "outputs": []
    },
    {
      "cell_type": "code",
      "source": [
        "test_loss, test_acc = model.evaluate(test_mfccs, test_labels)\n",
        "print(f\"테스트 정확도: {test_acc: 3f}\")"
      ],
      "metadata": {
        "colab": {
          "base_uri": "https://localhost:8080/"
        },
        "id": "dtg4aJn1ySpj",
        "outputId": "b20aec6b-0a1c-4fa1-ccc2-549b14fabfdd"
      },
      "execution_count": 15,
      "outputs": [
        {
          "output_type": "stream",
          "name": "stdout",
          "text": [
            "\u001b[1m63/63\u001b[0m \u001b[32m━━━━━━━━━━━━━━━━━━━━\u001b[0m\u001b[37m\u001b[0m \u001b[1m6s\u001b[0m 89ms/step - accuracy: 0.9334 - loss: 0.5585\n",
            "테스트 정확도:  0.940500\n"
          ]
        }
      ]
    },
    {
      "cell_type": "code",
      "source": [
        "# 테스트 레이블 전처리 함수\n",
        "def extract_number_from_test_label(name):\n",
        "    \"\"\"파일명에서 숫자 추출 (예: KDF_E_1004 → 1004)\"\"\"\n",
        "    return int(name.split('_')[-1].split('.')[0])\n",
        "\n",
        "# 테스트 레이블 불러오기\n",
        "test_label = pd.read_table(\n",
        "    'drive/MyDrive/label/test_label.txt',\n",
        "    sep='- -',\n",
        "    engine='python',\n",
        "    header=None,\n",
        "    names=['voice_name','label']\n",
        ")\n",
        "\n",
        "# 파일명 전처리 (YSG 등 프리픽스 제거)\n",
        "test_label['voice_name'] = test_label['voice_name'].str[4:].str.strip()\n",
        "test_label['voice_number'] = test_label['voice_name'].apply(extract_number_from_test_label)\n",
        "test_label.sort_values('voice_number', inplace=True)\n",
        "\n",
        "# 레이블 인코딩\n",
        "le = LabelEncoder()\n",
        "test_labels = le.fit_transform(test_label['label'])\n",
        "\n",
        "# 테스트 데이터 경로 설정\n",
        "test_data_path = 'drive/MyDrive/test'\n",
        "\n",
        "# 데이터 저장 리스트 초기화\n",
        "test_file_names = []\n",
        "test_x = []\n",
        "test_y = []\n",
        "\n",
        "# 음성 데이터 처리 파이프라인\n",
        "for idx, row in test_label.iterrows():\n",
        "    file_name = row['voice_name']\n",
        "    label_encoded = test_labels[idx]  # 인코딩된 라벨 사용[6]\n",
        "\n",
        "    # 실제 오디오 파일 경로 생성\n",
        "    wav_path = os.path.join(test_data_path, file_name)\n",
        "\n",
        "    # 파일 존재 여부 확인 (검색 결과[5][9] 반영)\n",
        "    if not os.path.exists(wav_path):\n",
        "        print(f\"경고: {wav_path} 파일 없음\")\n",
        "        continue\n",
        "\n",
        "    try:\n",
        "        # 오디오 처리 (메모리 엔트리[10]의 CNN 입력 요구사항 반영)\n",
        "        y, sr = librosa.load(wav_path, sr=16000)\n",
        "        mfcc = librosa.feature.mfcc(y=y, sr=sr, n_mfcc=20)\n",
        "        mfcc_delta = librosa.feature.delta(mfcc)\n",
        "        mfcc_delta2 = librosa.feature.delta(mfcc, order=2)\n",
        "\n",
        "        mfcc_combined = np.concatenate((mfcc, mfcc_delta, mfcc_delta2), axis=0)\n",
        "        mfcc_mean = np.mean(mfcc_combined, axis=1)\n",
        "\n",
        "        test_x.append(mfcc_mean)\n",
        "        test_y.append(label_encoded)\n",
        "        test_file_names.append(file_name)\n",
        "\n",
        "    except Exception as e:\n",
        "        print(f\"{file_name} 처리 실패: {str(e)}\")\n"
      ],
      "metadata": {
        "id": "NszCW7aJ674R"
      },
      "execution_count": 16,
      "outputs": []
    },
    {
      "cell_type": "code",
      "source": [
        "from tensorflow.keras.utils import to_categorical\n",
        "# 리스트를 numpy 배열로 변환\n",
        "X_test = np.array(test_x)\n",
        "\n",
        "# 라벨 인코딩 (0: fake, 1: real)\n",
        "le = LabelEncoder()\n",
        "y_test = le.fit_transform(test_y)"
      ],
      "metadata": {
        "id": "WuDoY3gDwOj4"
      },
      "execution_count": 17,
      "outputs": []
    },
    {
      "cell_type": "code",
      "source": [
        "# 예: 파일 이름과 데이터, 라벨을 묶어서 정렬\n",
        "combined = list(zip(test_file_names, test_mfccs, test_labels))\n",
        "combined.sort(key=lambda x: x[0])  # 파일 이름 기준 정렬\n",
        "\n",
        "# 다시 분리\n",
        "sorted_file_names, sorted_mfccs, sorted_labels = zip(*combined)\n",
        "\n",
        "# numpy 배열로 변환\n",
        "sorted_mfccs = np.array(sorted_mfccs)\n",
        "sorted_labels = np.array(sorted_labels)"
      ],
      "metadata": {
        "id": "fvRa60Ve_0nT"
      },
      "execution_count": 18,
      "outputs": []
    },
    {
      "cell_type": "code",
      "source": [
        "y_pred = model.predict(sorted_mfccs)\n",
        "y_pred_probs = y_pred.flatten()\n",
        "\n",
        "from sklearn.metrics import precision_recall_curve\n",
        "precision, recall, thresholds = precision_recall_curve(sorted_labels, y_pred_probs)\n",
        "f1_scores = 2 * (precision * recall) / (precision + recall + 1e-9)\n",
        "optimal_threshold = thresholds[np.argmax(f1_scores)]\n",
        "\n",
        "y_pred_classes = (y_pred_probs > optimal_threshold).astype(int)\n",
        "\n",
        "from sklearn.metrics import accuracy_score\n",
        "acc = accuracy_score(sorted_labels, y_pred_classes)\n",
        "print(\"정렬 후 정확도:\", acc)"
      ],
      "metadata": {
        "colab": {
          "base_uri": "https://localhost:8080/"
        },
        "id": "SipBWfiXtiTP",
        "outputId": "3d669fab-df8f-4512-e009-471ec5af016a"
      },
      "execution_count": 19,
      "outputs": [
        {
          "output_type": "stream",
          "name": "stdout",
          "text": [
            "\u001b[1m63/63\u001b[0m \u001b[32m━━━━━━━━━━━━━━━━━━━━\u001b[0m\u001b[37m\u001b[0m \u001b[1m5s\u001b[0m 78ms/step\n",
            "정렬 후 정확도: 0.945\n"
          ]
        }
      ]
    },
    {
      "cell_type": "code",
      "source": [
        "from sklearn.metrics import accuracy_score, confusion_matrix, ConfusionMatrixDisplay\n",
        "import matplotlib.pyplot as plt\n",
        "# 혼동 행렬(Confusion Matrix) 시각화\n",
        "cm = confusion_matrix(sorted_labels, y_pred_classes)\n",
        "disp = ConfusionMatrixDisplay(confusion_matrix=cm, display_labels=le.classes_)\n",
        "disp.plot(cmap=plt.cm.Blues)\n",
        "plt.title('Confusion Matrix')\n",
        "plt.show()"
      ],
      "metadata": {
        "colab": {
          "base_uri": "https://localhost:8080/",
          "height": 472
        },
        "id": "nsjA6CmAvkBO",
        "outputId": "96cb7442-deb5-495c-bb50-3f8245d3970f"
      },
      "execution_count": 20,
      "outputs": [
        {
          "output_type": "display_data",
          "data": {
            "text/plain": [
              "<Figure size 640x480 with 2 Axes>"
            ],
            "image/png": "[encoded data removed]"
          },
          "metadata": {}
        }
      ]
    },
    {
      "cell_type": "code",
      "source": [
        "# label을 sort시킴\n",
        "\n",
        "# 파일 읽기\n",
        "with open('drive/MyDrive/label/test_label.txt', 'r', encoding='utf-8') as f:\n",
        "    lines = f.readlines()\n",
        "\n",
        "# 번호 추출 함수\n",
        "def extract_number(line):\n",
        "    # 예시: YSG KDF_E_1004.wav - - Real\n",
        "    m = re.search(r'_(\\d+)\\.wav', line)\n",
        "    return int(m.group(1)) if m else float('inf')\n",
        "\n",
        "# 정렬\n",
        "sorted_lines = sorted(lines, key=extract_number)\n",
        "\n",
        "# 저장\n",
        "with open('drive/MyDrive/label/test_label_sorted.txt', 'w', encoding='utf-8') as f:\n",
        "    f.writelines(sorted_lines)\n"
      ],
      "metadata": {
        "id": "ULfY3KXDWcU-"
      },
      "execution_count": 21,
      "outputs": []
    },
    {
      "cell_type": "code",
      "source": [
        "# test_label_sorted.txt 기준으로 예측 파일 생성\n",
        "sorted_test_label = pd.read_table(\n",
        "    'drive/MyDrive/label/test_label_sorted.txt',\n",
        "    sep='- -',\n",
        "    engine='python',\n",
        "    header=None,\n",
        "    names=['voice_name','label']\n",
        ")\n",
        "\n",
        "#test_result 또한 sort시킴\n",
        "with open('pksong0517_test_result_sorted.txt', 'w') as f:\n",
        "    for idx, row in sorted_test_label.iterrows():\n",
        "        # 프리픽스 제거된 파일명 사용\n",
        "        file_name = row['voice_name'].split(' ', 1)[1].strip()\n",
        "        pred_label = 'Real' if y_pred_classes[idx] == 1 else 'Fake'\n",
        "        f.write(f\"{file_name} {pred_label}\\n\")\n"
      ],
      "metadata": {
        "id": "3PWEbxYSKBjY"
      },
      "execution_count": 22,
      "outputs": []
    },
    {
      "cell_type": "code",
      "source": [
        "#sort된 label을 통해 eval.pl 실행\n",
        "!perl drive/MyDrive/eval.pl pksong0517_test_result_sorted.txt drive/MyDrive/test_label_sorted.txt"
      ],
      "metadata": {
        "colab": {
          "base_uri": "https://localhost:8080/"
        },
        "id": "B5lZULcMKFnT",
        "outputId": "d49933d3-b927-435c-ebb2-93a0df16e0b3"
      },
      "execution_count": 24,
      "outputs": [
        {
          "output_type": "stream",
          "name": "stdout",
          "text": [
            "============ Results Analysis ===========\n",
            "Test: pksong0517_test_result_sorted.txt\n",
            "True: drive/MyDrive/test_label_sorted.txt\n",
            "Accuracy: 94.50%\n",
            "Hit: 1890, Total: 2000\n",
            "=========================================\n"
          ]
        }
      ]
    }
  ]
}